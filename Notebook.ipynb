{
 "cells": [
  {
   "cell_type": "code",
   "execution_count": 6,
   "metadata": {},
   "outputs": [
    {
     "name": "stdout",
     "output_type": "stream",
     "text": [
      "sorte array is:  [0, 4, 5, 6, 9, 12, 58, 65, 78, 79, 98]\n"
     ]
    }
   ],
   "source": [
    "#quick sort\n",
    "def quick_sort(array):\n",
    "    # base case : if arrary has 1 or 0 elements\n",
    "    #its already sorted\n",
    "    if len(array) <= 1:\n",
    "        return array\n",
    "    \n",
    "    #step1 choose a pivot\n",
    "    Pivot = array[len(array)//2]\n",
    "    #step2 partition the array around the pivot\n",
    "    left=[x for x in array if x < Pivot]\n",
    "    middle=[x for x in array if x == Pivot]\n",
    "    right= [x for x in array if x> Pivot] \n",
    "    #step3: recursively sort the left and right p\n",
    "    return quick_sort(left)+middle+quick_sort(right)\n",
    "\n",
    "#example\n",
    "array = [12, 4, 5, 6, 78, 9, 0, 98, 58, 79, 65]\n",
    "sorted_array = quick_sort(array)\n",
    "print(f\"sorte array is: \",sorted_array)    \n",
    " \n",
    " \n",
    " \n",
    " \n",
    "#  #when the pivot is the last\n",
    "#  def quick_sort(array):\n",
    "#         # base case: if array has 1 or 0 elements, it's already sorted\n",
    "#     if len(array) <= 1:\n",
    "#         return array\n",
    "    \n",
    "#     # step 1: choose a pivot (last element of the array)\n",
    "#     pivot = array[-1]\n",
    "    \n",
    "#     # step 2: partition the array around the pivot\n",
    "#     left = [x for x in array if x < pivot]\n",
    "#     middle = [x for x in array if x == pivot]\n",
    "#     right = [x for x in array if x > pivot]\n",
    "    \n",
    "#     # step 3: recursively sort the left and right parts\n",
    "#     return quick_sort(left) + middle + quick_sort(right)\n",
    "\n",
    "# # example\n",
    "# array = [12, 4, 5, 6, 78, 9, 0, 98, 58, 79, 65]\n",
    "# sorted_array = quick_sort(array)\n",
    "# print(f\"Sorted array is: {sorted_array}\")\n",
    " \n",
    " \n",
    " \n",
    " \n",
    "#  #when the pivot is the first\n",
    "#  def quick_sort(array):\n",
    "#         # base case: if array has 1 or 0 elements, it's already sorted\n",
    "#     if len(array) <= 1:\n",
    "#         return array\n",
    "    \n",
    "#     # step 1: choose a pivot (first element of the array)\n",
    "#     pivot = array[0]\n",
    "    \n",
    "#     # step 2: partition the array around the pivot\n",
    "#     left = [x for x in array if x < pivot]\n",
    "#     middle = [x for x in array if x == pivot]\n",
    "#     right = [x for x in array if x > pivot]\n",
    "    \n",
    "#     # step 3: recursively sort the left and right parts\n",
    "#     return quick_sort(left) + middle + quick_sort(right)\n",
    "\n",
    "# # example\n",
    "# array = [12, 4, 5, 6, 78, 9, 0, 98, 58, 79, 65]\n",
    "# sorted_array = quick_sort(array)\n",
    "# print(f\"Sorted array is: {sorted_array}\")"
   ]
  },
  {
   "cell_type": "markdown",
   "metadata": {},
   "source": [
    "- ## Quick sort \n",
    "## Base case is O(nlogn) logarithimic time \n",
    "This is the desirable\n",
    "Worst case is o(nsqr2)quadratic time\n",
    "Average case is O -->\n"
   ]
  },
  {
   "cell_type": "code",
   "execution_count": 7,
   "metadata": {},
   "outputs": [
    {
     "name": "stdout",
     "output_type": "stream",
     "text": [
      "Sorted array: [-1, 4, 9, 10, 12, 18, 27, 30, 36, 50, 90, 122]\n"
     ]
    }
   ],
   "source": [
    "def sorting(A):\n",
    "    n = len(A)\n",
    "    # Traverse through all elements in the array\n",
    "    for i in range(n):\n",
    "        # Last i elements are already in place, so skip them\n",
    "        for j in range(0, n-i-1):\n",
    "            # Swap if the element found is greater than the next element\n",
    "            if A[j] > A[j+1]:\n",
    "                A[j], A[j+1] = A[j+1], A[j]\n",
    "    return A\n",
    "\n",
    "# The array to be sorted\n",
    "A = [122, 18, 12, 4, 27, 30, 36, 50, 9, 90, 10, -1]\n",
    "\n",
    "# Call the sorting function\n",
    "sorted_A = sorting(A)\n",
    "\n",
    "# Print the sorted array\n",
    "print(\"Sorted array:\", sorted_A)\n"
   ]
  },
  {
   "cell_type": "code",
   "execution_count": 2,
   "metadata": {},
   "outputs": [
    {
     "data": {
      "text/plain": [
       "4"
      ]
     },
     "execution_count": 2,
     "metadata": {},
     "output_type": "execute_result"
    }
   ],
   "source": [
    "def search(A,K): \n",
    "    i= 0\n",
    "    while i < len(A) and A[i]!=k:\n",
    "        i= i+1\n",
    "    if i < len(A):\n",
    "        return i\n",
    "    else:\n",
    "        return -1\n",
    "lst = [75,32,89,55,21,64]    \n",
    "k=21\n",
    "search(lst,k)    "
   ]
  },
  {
   "cell_type": "markdown",
   "metadata": {},
   "source": [
    "- Search algorithm code"
   ]
  },
  {
   "cell_type": "code",
   "execution_count": 7,
   "metadata": {},
   "outputs": [
    {
     "data": {
      "text/plain": [
       "6"
      ]
     },
     "execution_count": 7,
     "metadata": {},
     "output_type": "execute_result"
    }
   ],
   "source": [
    "#search function\n",
    "def search_func(A,k):\n",
    "    i= 0\n",
    "    while i< len(A) and A[i]!= k:\n",
    "        i +=1\n",
    "    if i < len(A):\n",
    "        return i\n",
    "    else:\n",
    "        return -1\n",
    "Array = [2,3,4,5,6,7,8,9,0,10,12,]    \n",
    "k = 8\n",
    "search_func(Array,k)    "
   ]
  },
  {
   "cell_type": "markdown",
   "metadata": {},
   "source": [
    "- Binary search"
   ]
  },
  {
   "cell_type": "code",
   "execution_count": 1,
   "metadata": {},
   "outputs": [
    {
     "data": {
      "text/plain": [
       "True"
      ]
     },
     "execution_count": 1,
     "metadata": {},
     "output_type": "execute_result"
    }
   ],
   "source": [
    "#binary search\n",
    "def bseacrh(A,K,L,R):\n",
    "    if(R - L ==0 ):\n",
    "        return False\n",
    "    mid = (L+R)//2\n",
    "    if(A[mid] == K):\n",
    "        return True\n",
    "    if K < A[mid]:\n",
    "        return bseacrh(A,K,L,mid)\n",
    "    else:\n",
    "        return bseacrh(A,K,mid+1,R)\n",
    " #implementation \n",
    "Array = [2,3,4,5,6,7,8,9,0,10,]    \n",
    "k = 8\n",
    "L = 2\n",
    "R =10\n",
    "bseacrh(Array,k ,L,R)\n",
    "          \n"
   ]
  },
  {
   "cell_type": "code",
   "execution_count": 5,
   "metadata": {},
   "outputs": [
    {
     "name": "stdout",
     "output_type": "stream",
     "text": [
      "the 5th finonacci number is 5\n"
     ]
    }
   ],
   "source": [
    "#Fibonacci_naive.py\n",
    "def naive_fib(n):\n",
    "    if n<= 1:\n",
    "        return n\n",
    "    return naive_fib(n-1)+ naive_fib(n-2)\n",
    "n = 5\n",
    "result = naive_fib(n)\n",
    "print(f\"the {n}th finonacci number is {result}\")\n",
    "        "
   ]
  },
  {
   "cell_type": "code",
   "execution_count": 9,
   "metadata": {},
   "outputs": [
    {
     "name": "stdout",
     "output_type": "stream",
     "text": [
      "the 6th finonacci number is 8\n"
     ]
    }
   ],
   "source": [
    "#fibonacci_memozied\n",
    "def fibonacci_memozied(n,fibnumbers={}):\n",
    "    if n <= 1:\n",
    "        return n\n",
    "    if n not in fibnumbers:\n",
    "        fibnumbers[n] = fibonacci_memozied(n-1,fibnumbers) + fibonacci_memozied(n-2,fibnumbers)\n",
    "    return fibnumbers[n]\n",
    "#Example usage\n",
    "n =6 \n",
    "result = fibonacci_memozied(n)\n",
    "print(f\"the {n}th finonacci number is {result}\")\n",
    "\n",
    "        "
   ]
  },
  {
   "cell_type": "code",
   "execution_count": 12,
   "metadata": {},
   "outputs": [
    {
     "name": "stdout",
     "output_type": "stream",
     "text": [
      "the 6th fibonacci number is 8\n"
     ]
    }
   ],
   "source": [
    "#fibonacci_ tabulated\n",
    "def tabulated_fib(n):\n",
    "    if n <= 1:\n",
    "        return n\n",
    "    fib_table=[0]*(n+1)\n",
    "    fib_table[1]=1\n",
    "    for i in range (2, n+1):\n",
    "        fib_table[i] = fib_table[i -1] + fib_table[i-2]\n",
    "    return fib_table[n]\n",
    "n = 6\n",
    "result = tabulated_fib(n)\n",
    "print(f\"the {n}th fibonacci number is {result}\")"
   ]
  },
  {
   "cell_type": "markdown",
   "metadata": {},
   "source": [
    "- ## Recussive memoization"
   ]
  },
  {
   "cell_type": "code",
   "execution_count": 1,
   "metadata": {},
   "outputs": [
    {
     "ename": "SyntaxError",
     "evalue": "invalid syntax (3684512980.py, line 6)",
     "output_type": "error",
     "traceback": [
      "\u001b[1;36m  Cell \u001b[1;32mIn[1], line 6\u001b[1;36m\u001b[0m\n\u001b[1;33m    else:\u001b[0m\n\u001b[1;37m    ^\u001b[0m\n\u001b[1;31mSyntaxError\u001b[0m\u001b[1;31m:\u001b[0m invalid syntax\n"
     ]
    }
   ],
   "source": [
    "def fib(n,memo):\n",
    "    if memo[n] is not None:\n",
    "        return memo[n]\n",
    "    if n==1 or n==2:\n",
    "        result = 1\n",
    "    else :\n",
    "            result = fib(n-1,memo) + fib(n-2,memo)\n",
    "            memo[n] = result\n",
    "        return result\n",
    "def fib_memo (n):\n",
    "    memo = (None)*(n+1)\n",
    "    return fib(n memo)\n",
    "fib_memo(5)\n",
    "fib_memo(1000)\n",
    "    "
   ]
  },
  {
   "cell_type": "code",
   "execution_count": 4,
   "metadata": {},
   "outputs": [
    {
     "name": "stdout",
     "output_type": "stream",
     "text": [
      "A:['A', 'B', 'A', 'C']\n",
      "B:['B', 'C']\n",
      "C:['C', 'D']\n",
      "D:[]\n"
     ]
    }
   ],
   "source": [
    "#graph.py \n",
    "graph ={}\n",
    "def add_node(graph,node):\n",
    "    if node not in graph:\n",
    "        graph[node]= [] #{\"A\":[]}\n",
    "def add_edge(graph,node1,node2):\n",
    "    if node1 in graph and node2 in graph:\n",
    "        graph[node1].append(node1)\n",
    "        graph[node1].append(node2)\n",
    "    else:\n",
    "        print(\"one or both nodes are not in the graph\")\n",
    "def display_graph(graph):\n",
    "    for node,edges in graph.items():\n",
    "        print(f\"{node}:{edges}\")\n",
    "        \n",
    "add_node(graph, \"A\")\n",
    "add_node(graph, \"B\")\n",
    "add_node(graph, \"C\")\n",
    "add_node(graph, \"D\")\n",
    "add_edge(graph,\"A\",\"B\")\n",
    "add_edge(graph,\"A\",\"C\")\n",
    "add_edge(graph,\"B\",\"C\")\n",
    "add_edge(graph,\"C\",\"D\")\n",
    "display_graph(graph)"
   ]
  },
  {
   "cell_type": "markdown",
   "metadata": {},
   "source": [
    "- ## Using depth first traversal"
   ]
  },
  {
   "cell_type": "code",
   "execution_count": 9,
   "metadata": {},
   "outputs": [
    {
     "name": "stdout",
     "output_type": "stream",
     "text": [
      "SADBC"
     ]
    }
   ],
   "source": [
    "#depth_first py\n",
    "def dfs_stack(graph,start):\n",
    "    visted = set()\n",
    "    stack =[start]\n",
    "    \n",
    "    while stack:\n",
    "        node = stack.pop()\n",
    "        if node  not in visted:\n",
    "            print(node,end=\"\")\n",
    "            visted.add(node)\n",
    "            \n",
    "            for neigbor in reversed(graph[node]):\n",
    "                 if neigbor not in visted:\n",
    "                     stack.append(neigbor)\n",
    "                     \n",
    "graph={\n",
    "    \"A\":[\"S\",\"D\"],\n",
    "    \"B\":[\"D\",\"S\"],\n",
    "    \"D\":[\"B\",\"C\",\"A\"],\n",
    "    \"S\":[\"A\",\"B\",\"C\"],\n",
    "    \"C\":[\"S\",\"D\"],\n",
    "        \n",
    "}\n",
    "dfs_stack(graph,\"S\")\n"
   ]
  },
  {
   "cell_type": "markdown",
   "metadata": {},
   "source": [
    "- ## Using a Breadth first traversal"
   ]
  },
  {
   "cell_type": "code",
   "execution_count": 12,
   "metadata": {},
   "outputs": [
    {
     "name": "stdout",
     "output_type": "stream",
     "text": [
      "SABCD"
     ]
    },
    {
     "data": {
      "text/plain": [
       "['S', 'A', 'B', 'C', 'D']"
      ]
     },
     "execution_count": 12,
     "metadata": {},
     "output_type": "execute_result"
    }
   ],
   "source": [
    "#breadth_first.py \n",
    "from collections import deque\n",
    "def bfs(graph, start):\n",
    "    visted=set()\n",
    "    queue = deque([start])\n",
    "    output=[]# to sort the order in which the node are arranged\n",
    "    \n",
    "    while queue:\n",
    "        node = queue.popleft()\n",
    "        if node not in visted:\n",
    "            print(node,end=\"\")\n",
    "            visted.add(node)\n",
    "            output.append(node)\n",
    "            \n",
    "            for neighbor in graph[node]:\n",
    "                if neighbor not in visted:\n",
    "                    queue.append(neighbor)\n",
    "    return output\n",
    "\n",
    "graph={\n",
    "    \"A\":[\"S\",\"D\"],\n",
    "    \"B\":[\"D\",\"S\"],\n",
    "    \"D\":[\"B\",\"C\",\"A\"],\n",
    "    \"S\":[\"A\",\"B\",\"C\"],\n",
    "    \"C\":[\"S\",\"D\"],     \n",
    "}\n",
    "bfs(graph,\"S\")               "
   ]
  }
 ],
 "metadata": {
  "kernelspec": {
   "display_name": "Python 3",
   "language": "python",
   "name": "python3"
  },
  "language_info": {
   "codemirror_mode": {
    "name": "ipython",
    "version": 3
   },
   "file_extension": ".py",
   "mimetype": "text/x-python",
   "name": "python",
   "nbconvert_exporter": "python",
   "pygments_lexer": "ipython3",
   "version": "3.12.3"
  }
 },
 "nbformat": 4,
 "nbformat_minor": 2
}
