{
 "cells": [
  {
   "attachments": {},
   "cell_type": "markdown",
   "id": "544ec505-972d-44f1-bbd1-c30e746e24a1",
   "metadata": {},
   "source": [
    "## Algorithm Detection\n",
    "\n",
    "You are provided with the following Python code of a sorting algorithm, which is claimed to be \"efficient.\" However, it performs poorly on large datasets. Your job is to identify the algorithm's problem(s) and optimise it."
   ]
  },
  {
   "cell_type": "code",
   "execution_count": 26,
   "id": "4da7e4d1-6a8b-4a11-8692-27a11d6ce72e",
   "metadata": {},
   "outputs": [
    {
     "name": "stdout",
     "output_type": "stream",
     "text": [
      "Sorted array: [-9, -4, -1, 10, 12, 18, 22, 27, 30, 36, 50, 87, 90]\n",
      "0.00031185150146484375\n"
     ]
    }
   ],
   "source": [
    "import time\n",
    "\n",
    "def sorting(A):\n",
    "    n = len(A)\n",
    "    for i in range(n):\n",
    "        for j in range(0, n-i-1):\n",
    "            if A[j] > A[j+1]:\n",
    "                A[j], A[j+1] = A[j+1], A[j]\n",
    "    return A\n",
    "\n",
    "time1 = time.time()\n",
    "A = [22, 18, 12, -4, 27, 30, 36, 50, -9, 90, 10, -1, 87]\n",
    "sorted_A = sorting(A)\n",
    "print(\"Sorted array:\", sorted_A)\n",
    "time2 = time.time()\n",
    "print(time2-time1)"
   ]
  },
  {
   "cell_type": "markdown",
   "id": "76be2ceb-d7b3-41c8-b1b2-1021bfbb8f3a",
   "metadata": {},
   "source": [
    "- Analyze the time complexity of this sorting algorithm and determine why it performs poorly on larger datasets.\n",
    "- Test the provided code on different types of datasets (random, sorted, reverse-sorted, etc.) and note the time taken. Identify which type of dataset leads to the worst performance.\n",
    "- Replace the inefficient sorting algorithm with a more efficient one (such as Merge Sort, Quick Sort, or even Python’s built-in sort() function)."
   ]
  },
  {
   "cell_type": "markdown",
   "id": "99b11f02-5d6a-4ffb-9229-e8916eb7210a",
   "metadata": {},
   "source": [
    "This is Bubble Sort algorithm, which compares adjacent elements and swaps them if they are out of order. \n",
    "The time complexity of Bubble Sort is:\n",
    "- Best Case: O(n) - when the array is already sorted\n",
    "- Worst Case: O($n^2$) - when the array is in reverse order"
   ]
  },
  {
   "cell_type": "markdown",
   "id": "81143753-5e41-45af-ae18-9ad71c880113",
   "metadata": {},
   "source": [
    "Let's analyse the Worst-Case Scenario on different datasets of, say:\n",
    "- Random data\n",
    "- Sorted data\n",
    "- Reverse sorted data (as noted above, it is the worst case for Bubble Sort)"
   ]
  },
  {
   "cell_type": "code",
   "execution_count": 38,
   "id": "e06594ff-ec0e-43df-bb35-c3d4315a5d21",
   "metadata": {},
   "outputs": [
    {
     "name": "stdout",
     "output_type": "stream",
     "text": [
      "Random data sort time: 0.00007510 seconds\n",
      "Sorted data sort time: 0.00004983 seconds\n",
      "Reverse sorted data sort time: 0.00003195 seconds\n"
     ]
    }
   ],
   "source": [
    "import time\n",
    "\n",
    "def bubble_Sort(A):\n",
    "    n = len(A)\n",
    "    for i in range(n):\n",
    "        for j in range(0, n-i-1):\n",
    "            if A[j] > A[j+1]:\n",
    "                A[j], A[j+1] = A[j+1], A[j]\n",
    "    return A\n",
    "\n",
    "random_data = [22, 18, 12, -4, 27, 30, 36, 50, -9, 90, 10, -1, 87, 8, 13, 39]\n",
    "sorted_data = [-9, -4, -1, 8, 10, 12, 13, 18, 22, 27, 30, 36, 39, 50, 87, 90]\n",
    "reverse_sorted_data = [90, 87, 50, 39, 36, 30, 27, 22, 18, 13, 12, 10, 8, -1, -4, -9]\n",
    "\n",
    "\n",
    "# Expected to take moderate time.                                                    \n",
    "start = time.time()\n",
    "bubble_Sort(random_data)\n",
    "print(f\"Random data sort time: {time.time() - start:.8f} seconds\")\n",
    "\n",
    "# Expected to be the fastest (best case for Bubble Sort).\n",
    "start = time.time()\n",
    "bubble_Sort(sorted_data)\n",
    "print(f\"Sorted data sort time: {time.time() - start:.8f} seconds\")\n",
    "\n",
    "# Expected to take the longest time (worst case for Bubble Sort).\n",
    "start = time.time()\n",
    "bubble_Sort(reverse_sorted_data)\n",
    "print(f\"Reverse sorted data sort time: {time.time() - start:.8f} seconds\")\n"
   ]
  },
  {
   "cell_type": "code",
   "execution_count": 40,
   "id": "8a5e9e74-f7ba-4773-b259-b2bb2f116b38",
   "metadata": {},
   "outputs": [
    {
     "name": "stdout",
     "output_type": "stream",
     "text": [
      "Optimized Sorted Array: 0.00015903 seconds\n"
     ]
    }
   ],
   "source": [
    "# Use merge sort or Python's Built-in Timsort to optimise the algorithm. The said algorithms are both O(n log n))\n",
    "def optimized_sort(A):\n",
    "    return sorted(A)\n",
    "\n",
    "start = time.time()\n",
    "A = [22, 18, 12, -4, 27, 30, 36, 50, -9, 90, 10, -1, 87, 8, 13, 39]\n",
    "optimized_sort(A)\n",
    "print(f\"Optimized Sorted Array: {time.time() - start:.8f} seconds\")"
   ]
  },
  {
   "cell_type": "code",
   "execution_count": 44,
   "id": "ab01d55e-14d6-4971-9fec-e44072c2b977",
   "metadata": {},
   "outputs": [
    {
     "name": "stdout",
     "output_type": "stream",
     "text": [
      "The number of inversions = 13\n"
     ]
    }
   ],
   "source": [
    "lst = [2,23,5,6,4,7,12,3]\n",
    "inv =0\n",
    "for i in range(len(lst)):\n",
    "    for j in range(i+1, len(lst)):\n",
    "        if lst[i]>lst[j]:\n",
    "            inv = inv +1\n",
    "print(\"The number of inversions =\", inv)\n",
    "# optimise from O(n^2) to better algorithm"
   ]
  },
  {
   "cell_type": "code",
   "execution_count": null,
   "id": "c5d94ac7-f204-4671-a5cc-080134d7a7be",
   "metadata": {},
   "outputs": [],
   "source": []
  }
 ],
 "metadata": {
  "kernelspec": {
   "display_name": "Python 3 (ipykernel)",
   "language": "python",
   "name": "python3"
  },
  "language_info": {
   "codemirror_mode": {
    "name": "ipython",
    "version": 3
   },
   "file_extension": ".py",
   "mimetype": "text/x-python",
   "name": "python",
   "nbconvert_exporter": "python",
   "pygments_lexer": "ipython3",
   "version": "3.11.5"
  }
 },
 "nbformat": 4,
 "nbformat_minor": 5
}
